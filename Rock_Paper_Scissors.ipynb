{
 "cells": [
  {
   "cell_type": "markdown",
   "id": "0e2ab0a7",
   "metadata": {},
   "source": [
    "# Title:\n",
    "Rock-Paper-Scissors Game"
   ]
  },
  {
   "cell_type": "markdown",
   "id": "4972ebe1",
   "metadata": {},
   "source": [
    "# Objective:\n",
    "To create a simple interactive game where the user can play against the computer in a game of Rock-Paper-Scissors."
   ]
  },
  {
   "cell_type": "markdown",
   "id": "54770074",
   "metadata": {},
   "source": [
    "# Problem Statement:\n",
    "Traditional games often require physical components and can be played only in person. This project aims to create a digital version of the popular Rock-Paper-Scissors game, providing entertainment and an opportunity for users to engage in a fun activity without the need for physical materials"
   ]
  },
  {
   "cell_type": "markdown",
   "id": "5541ed03",
   "metadata": {},
   "source": [
    "# Tools:\n",
    "\n",
    "Programming Language: Python\n",
    "Libraries: Random (for generating computer choices)"
   ]
  },
  {
   "cell_type": "code",
   "execution_count": 1,
   "id": "44d6281b",
   "metadata": {},
   "outputs": [
    {
     "name": "stdout",
     "output_type": "stream",
     "text": [
      "Enter Your choice: Type 0 for Rock, 1 for Paper, 2 for Scissors.1\n",
      "Computer chosen:  0\n",
      "You win.\n"
     ]
    }
   ],
   "source": [
    "import random\n",
    "user_choice=int(input(\"Enter Your choice: Type 0 for Rock, 1 for Paper, 2 for Scissors.\"))\n",
    "if user_choice >= 3 or user_choice < 0:\n",
    "    print(\"You entered invalid number, You lose.\")\n",
    "else:\n",
    "    computer_choice=random.randint(0,2)\n",
    "    print(\"Computer chosen: \",computer_choice)\n",
    "    if computer_choice == user_choice:\n",
    "        print(\"It's a draw.\")\n",
    "    elif computer_choice > user_choice:\n",
    "        print(\"You Lose.\")\n",
    "    elif user_choice > computer_choice:\n",
    "        print(\"You win.\")\n",
    "    elif computer_choice == 0 and user_choice == 2:\n",
    "        print(\"You lose\")\n",
    "    elif user_choice and computer_choice == 2:\n",
    "        print(\"You win.\")\n",
    "    \n"
   ]
  }
 ],
 "metadata": {
  "kernelspec": {
   "display_name": "Python 3 (ipykernel)",
   "language": "python",
   "name": "python3"
  },
  "language_info": {
   "codemirror_mode": {
    "name": "ipython",
    "version": 3
   },
   "file_extension": ".py",
   "mimetype": "text/x-python",
   "name": "python",
   "nbconvert_exporter": "python",
   "pygments_lexer": "ipython3",
   "version": "3.11.5"
  }
 },
 "nbformat": 4,
 "nbformat_minor": 5
}
